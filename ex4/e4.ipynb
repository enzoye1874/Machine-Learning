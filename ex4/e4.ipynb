{
 "cells": [
  {
   "cell_type": "markdown",
   "metadata": {},
   "source": [
    "1. Neural Network Cost Function"
   ]
  },
  {
   "cell_type": "code",
   "execution_count": 238,
   "metadata": {},
   "outputs": [],
   "source": [
    "import numpy as np\n",
    "import scipy.io\n",
    "import math\n",
    "import matplotlib.pyplot as plt\n",
    "import matplotlib.cm as cm\n",
    "import scipy.misc\n",
    "from scipy.special import expit\n",
    "import random"
   ]
  },
  {
   "cell_type": "code",
   "execution_count": 239,
   "metadata": {},
   "outputs": [],
   "source": [
    "random.seed(13)"
   ]
  },
  {
   "cell_type": "code",
   "execution_count": 240,
   "metadata": {},
   "outputs": [],
   "source": [
    "data = scipy.io.loadmat('ex4data1.mat')"
   ]
  },
  {
   "cell_type": "code",
   "execution_count": 241,
   "metadata": {},
   "outputs": [],
   "source": [
    "X = data['X']\n",
    "X = np.column_stack((np.ones(X.shape[0]), X))\n",
    "y = data['y']\n",
    "m = X.shape[0]\n",
    "K = 10\n",
    "y_true = np.zeros((m, K))\n",
    "for i in range(m):\n",
    "    y_true[i, y[i] - 1] = 1"
   ]
  },
  {
   "cell_type": "code",
   "execution_count": 242,
   "metadata": {},
   "outputs": [],
   "source": [
    "weights = scipy.io.loadmat('ex4weights.mat')"
   ]
  },
  {
   "cell_type": "code",
   "execution_count": 243,
   "metadata": {},
   "outputs": [],
   "source": [
    "Theta1 = weights['Theta1']\n",
    "Theta2 = weights['Theta2']"
   ]
  },
  {
   "cell_type": "code",
   "execution_count": 244,
   "metadata": {},
   "outputs": [
    {
     "name": "stdout",
     "output_type": "stream",
     "text": [
      "X shape: (5000, 401)\n",
      "y shape: (5000, 1)\n",
      "Theta1 shape: (25, 401)\n",
      "Theta2 shape: (10, 26)\n"
     ]
    }
   ],
   "source": [
    "print(f'X shape: {X.shape}')\n",
    "print(f'y shape: {y.shape}')\n",
    "print(f'Theta1 shape: {Theta1.shape}')\n",
    "print(f'Theta2 shape: {Theta2.shape}')"
   ]
  },
  {
   "cell_type": "code",
   "execution_count": 247,
   "metadata": {},
   "outputs": [],
   "source": [
    "def nnCostFunction(X, y, Theta1, Theta2, lam = 0):\n",
    "    m = X.shape[0]\n",
    "    K = 10\n",
    "    a2 = expit(X @ Theta1.T)\n",
    "    a2 = np.column_stack((np.ones(m), a2)) # a2 shape : (5000, 26), Hidden Layer\n",
    "    a3 = expit(a2 @ Theta2.T) # a3 shape: (5000, 10), Output Layer\n",
    "    cost = 0\n",
    "    '''\n",
    "    for i in range(m):\n",
    "        for k in range(K):\n",
    "            cost += -y_true[i, k] * np.log(a3[i,k]) - (1 - y_true[i,k]) * np.log(1 - a3[i,k])\n",
    "    cost = cost/m\n",
    "    '''\n",
    "    yy = y_true.flatten()\n",
    "    a3 = a3.flatten()\n",
    "    term1 = -yy.T*np.log(a3)\n",
    "    term2 = (1-yy.T)*np.log(1-a3)\n",
    "    cost = np.sum((term1 - term2))/m\n",
    "    reg = lam/(2*m)*(np.sum(Theta1 * Theta1)+ np.sum(Theta2 * Theta2))\n",
    "    return cost + reg\n"
   ]
  },
  {
   "cell_type": "code",
   "execution_count": 249,
   "metadata": {},
   "outputs": [
    {
     "name": "stdout",
     "output_type": "stream",
     "text": [
      "0.2876291651613189\n"
     ]
    }
   ],
   "source": [
    "cost = nnCostFunction(X, y, Theta1, Theta2)\n",
    "print(cost)"
   ]
  },
  {
   "cell_type": "code",
   "execution_count": 250,
   "metadata": {},
   "outputs": [
    {
     "name": "stdout",
     "output_type": "stream",
     "text": [
      "0.384487796242894\n"
     ]
    }
   ],
   "source": [
    "cost = nnCostFunction(X, y, Theta1, Theta2, lam = 1)\n",
    "print(cost)"
   ]
  },
  {
   "cell_type": "markdown",
   "metadata": {},
   "source": [
    "2 Backpropagation"
   ]
  },
  {
   "cell_type": "code",
   "execution_count": 251,
   "metadata": {},
   "outputs": [],
   "source": [
    "def SigmoidGradient(z):\n",
    "    g = expit(z)\n",
    "    gradient = g * (1- g)\n",
    "    return gradient"
   ]
  },
  {
   "cell_type": "code",
   "execution_count": 252,
   "metadata": {},
   "outputs": [
    {
     "name": "stdout",
     "output_type": "stream",
     "text": [
      "[[0.25 0.25]\n",
      " [0.25 0.25]\n",
      " [0.25 0.25]]\n",
      "[0.25 0.25 0.25]\n"
     ]
    }
   ],
   "source": [
    "# test sigmoidGradient with matrix, vector\n",
    "s = SigmoidGradient(np.zeros((3, 2)))\n",
    "print(s)\n",
    "s = SigmoidGradient(np.zeros(3))\n",
    "print(s)"
   ]
  },
  {
   "cell_type": "code",
   "execution_count": 253,
   "metadata": {},
   "outputs": [
    {
     "name": "stdout",
     "output_type": "stream",
     "text": [
      "(25, 401) (10, 26)\n"
     ]
    }
   ],
   "source": [
    "def randInitializeWeights(X, y, n_t1):\n",
    "    '''\n",
    "    y should be in shape of (5000, 10)\n",
    "    '''\n",
    "    np.random.seed(13)\n",
    "    n_in = X.shape[1]\n",
    "    n_out = y.shape[1]\n",
    "    eplison_ini = 0.12\n",
    "    t1_ini = np.random.rand(n_t1, n_in) * 2 * eplison_ini - eplison_ini\n",
    "    t2_ini = np.random.rand(n_out, n_t1 + 1) * 2 * eplison_ini - eplison_ini\n",
    "    \n",
    "    return t1_ini, t2_ini, eplison_ini\n",
    "\n",
    "t1_ini, t2_ini, eplison_ini = randInitializeWeights(X, y_true, 25)\n",
    "print(t1_ini.shape, t2_ini.shape)\n"
   ]
  },
  {
   "cell_type": "code",
   "execution_count": 254,
   "metadata": {},
   "outputs": [
    {
     "data": {
      "text/plain": [
       "array([[ 0.0361128 ,  0.00163764,  0.10451519, -0.00730572,  0.05729893,\n",
       "         0.11286916,  0.08148461,  0.04677388,  0.10150134, -0.07028835,\n",
       "        -0.06619306,  0.01892042,  0.00305671, -0.08378777,  0.09818563,\n",
       "        -0.04062996, -0.01563425,  0.11000729, -0.02168252, -0.09855389,\n",
       "         0.11695874,  0.10743737,  0.07068408, -0.11393802, -0.01878151,\n",
       "         0.03167481],\n",
       "       [ 0.10050056,  0.03264228, -0.08201097,  0.10373032, -0.02062659,\n",
       "         0.03903743,  0.05827185, -0.04175627,  0.10103395,  0.10352145,\n",
       "         0.05585771,  0.04016006,  0.10194907,  0.07458021,  0.07004874,\n",
       "        -0.09252782, -0.00386945, -0.0815099 , -0.10220025,  0.11991605,\n",
       "        -0.01695089,  0.10339707, -0.11323199, -0.05244234,  0.02095583,\n",
       "        -0.08166763],\n",
       "       [ 0.03324483, -0.0154486 ,  0.1105214 , -0.11963491, -0.02408094,\n",
       "        -0.09192136, -0.03148066,  0.00213479, -0.08272441,  0.0209479 ,\n",
       "         0.10059417, -0.10420871, -0.08304581, -0.0546338 ,  0.11259028,\n",
       "        -0.01289418,  0.02388607,  0.06489655, -0.08605654, -0.06638741,\n",
       "         0.04458146, -0.00469573,  0.10618754,  0.03479895,  0.03233525,\n",
       "         0.08260888],\n",
       "       [ 0.08911914, -0.07923547,  0.11855333, -0.0236896 , -0.0838326 ,\n",
       "         0.09892073,  0.07755114,  0.06853952,  0.02341504, -0.03316884,\n",
       "         0.08390835, -0.11794263, -0.09671806, -0.09507167, -0.10915003,\n",
       "        -0.04407607,  0.03881591, -0.01504416,  0.07850748,  0.04292963,\n",
       "        -0.07484396, -0.09091815,  0.06287931, -0.03463893,  0.06885677,\n",
       "         0.10704232],\n",
       "       [ 0.08635075, -0.07800386, -0.02379306, -0.07229802,  0.09070007,\n",
       "         0.05460156,  0.06981809,  0.07755521,  0.03759743,  0.02137356,\n",
       "         0.09415528, -0.08153091,  0.01780836,  0.07202135,  0.08917588,\n",
       "         0.03155562,  0.00140222, -0.11253271, -0.10424915, -0.06919279,\n",
       "         0.01351073,  0.09450496,  0.11809482, -0.0317014 ,  0.05655658,\n",
       "        -0.02103192],\n",
       "       [-0.09342329,  0.0873594 , -0.11996058,  0.06243663,  0.05864688,\n",
       "        -0.06993667,  0.07163585,  0.00550615,  0.08814699, -0.00732849,\n",
       "         0.07851738, -0.04895757, -0.07288022, -0.08885851,  0.01265175,\n",
       "         0.02703775, -0.0561241 , -0.05517722, -0.03432745,  0.02524307,\n",
       "        -0.00969428, -0.02307242,  0.04601219,  0.03161495, -0.06298317,\n",
       "        -0.07576088],\n",
       "       [-0.08009116,  0.09521154, -0.05283221,  0.05353816, -0.0264953 ,\n",
       "         0.01922852, -0.07395919,  0.03740132,  0.09276309,  0.04180363,\n",
       "        -0.05829451, -0.0054488 , -0.0838297 , -0.06724151,  0.01966206,\n",
       "        -0.09562489,  0.10166189, -0.11023543, -0.10872871, -0.04857696,\n",
       "        -0.04809008,  0.06068815, -0.04853537,  0.0122722 ,  0.11226273,\n",
       "        -0.05435027],\n",
       "       [ 0.00142787,  0.09156361,  0.01669008,  0.04967234,  0.09286548,\n",
       "         0.04981189,  0.03489917, -0.00503772,  0.02895757, -0.04979304,\n",
       "        -0.08259749, -0.00791031, -0.04394157, -0.07450264, -0.08921682,\n",
       "        -0.01026485,  0.09351179,  0.00884523, -0.04487734,  0.0889891 ,\n",
       "        -0.05803529,  0.10956753,  0.06065805,  0.08154363, -0.09256067,\n",
       "         0.09764735],\n",
       "       [-0.04312471,  0.10824003,  0.03313618, -0.04478867,  0.02437839,\n",
       "         0.07561808, -0.02509242,  0.10023597,  0.03874198, -0.04261017,\n",
       "        -0.09241706,  0.06524796,  0.00093227, -0.07246622,  0.07389356,\n",
       "         0.02055797,  0.01094653, -0.03879236, -0.0481923 , -0.11433491,\n",
       "        -0.03060552, -0.03624686, -0.02831473,  0.0991527 , -0.09434525,\n",
       "         0.06536732],\n",
       "       [-0.02203225, -0.09068995, -0.11077678,  0.08801265, -0.01430221,\n",
       "         0.05353211,  0.11408544, -0.03225429,  0.03620748,  0.09583559,\n",
       "         0.10781127, -0.0833764 , -0.08234364,  0.02720725, -0.07512343,\n",
       "        -0.10477829,  0.04759992, -0.0124744 ,  0.04899512,  0.01481581,\n",
       "        -0.06783221, -0.05847278, -0.01394795,  0.11780621, -0.04592544,\n",
       "         0.03390893]])"
      ]
     },
     "execution_count": 254,
     "metadata": {},
     "output_type": "execute_result"
    }
   ],
   "source": [
    "t2_ini"
   ]
  },
  {
   "cell_type": "code",
   "execution_count": 255,
   "metadata": {},
   "outputs": [
    {
     "data": {
      "text/plain": [
       "'\\nX shape: (5000, 401)\\ny shape: (5000, 1)\\nTheta1 shape: (25, 401)\\nTheta2 shape: (10, 26)\\nD1 shape: (25, 401)\\nD2 shape: (10, 26)\\n'"
      ]
     },
     "execution_count": 255,
     "metadata": {},
     "output_type": "execute_result"
    }
   ],
   "source": [
    "'''\n",
    "X shape: (5000, 401)\n",
    "y shape: (5000, 1)\n",
    "Theta1 shape: (25, 401)\n",
    "Theta2 shape: (10, 26)\n",
    "D1 shape: (25, 401)\n",
    "D2 shape: (10, 26)\n",
    "'''"
   ]
  },
  {
   "cell_type": "code",
   "execution_count": 256,
   "metadata": {},
   "outputs": [],
   "source": [
    "m, n =X.shape"
   ]
  },
  {
   "cell_type": "code",
   "execution_count": 257,
   "metadata": {},
   "outputs": [
    {
     "data": {
      "text/plain": [
       "'\\ndef ForwardPropagation(X, T):\\n    z2 = T[0] @ X.T # z2 shape: (25, 1)\\n    a2 = expit(z2)\\n    a2 = np.insert(a2, 0, 1, axis = 0) # a2 shape: (26, 1)\\n    z3 = T[1] @ a2 # z3 shape: (10, 1)\\n    a3 = expit(z3) # a3 shape: (10, 1)\\n    return [(z2, a2), (z3, a3)]'"
      ]
     },
     "execution_count": 257,
     "metadata": {},
     "output_type": "execute_result"
    }
   ],
   "source": [
    "def ForwardPropagation(X, theta1, theta2):\n",
    "    z2 = theta1 @ X.T # z2 shape: (25, 1)\n",
    "    a2 = expit(z2)\n",
    "    a2 = np.insert(a2, 0, 1, axis = 0) # a2 shape: (26, 1)\n",
    "    z3 = theta2 @ a2 # z3 shape: (10, 1)\n",
    "    a3 = expit(z3) # a3 shape: (10, 1)\n",
    "    return z2, a2, z3, a3\n",
    "'''\n",
    "def ForwardPropagation(X, T):\n",
    "    z2 = T[0] @ X.T # z2 shape: (25, 1)\n",
    "    a2 = expit(z2)\n",
    "    a2 = np.insert(a2, 0, 1, axis = 0) # a2 shape: (26, 1)\n",
    "    z3 = T[1] @ a2 # z3 shape: (10, 1)\n",
    "    a3 = expit(z3) # a3 shape: (10, 1)\n",
    "    return [(z2, a2), (z3, a3)]'''"
   ]
  },
  {
   "cell_type": "code",
   "execution_count": 258,
   "metadata": {},
   "outputs": [],
   "source": [
    "row1 = X[500].reshape((1, 401))\n",
    "z2, a2, z3, a3 = ForwardPropagation(row1, Theta1, Theta2)"
   ]
  },
  {
   "cell_type": "code",
   "execution_count": 259,
   "metadata": {},
   "outputs": [
    {
     "data": {
      "text/plain": [
       "array([[9.81212670e-01],\n",
       "       [1.77130603e-02],\n",
       "       [1.98089679e-03],\n",
       "       [1.63701228e-03],\n",
       "       [1.66140183e-03],\n",
       "       [7.79555251e-04],\n",
       "       [1.70240546e-03],\n",
       "       [1.07248964e-02],\n",
       "       [1.25880085e-04],\n",
       "       [3.00769987e-04]])"
      ]
     },
     "execution_count": 259,
     "metadata": {},
     "output_type": "execute_result"
    }
   ],
   "source": [
    "a3"
   ]
  },
  {
   "cell_type": "code",
   "execution_count": 260,
   "metadata": {},
   "outputs": [
    {
     "name": "stdout",
     "output_type": "stream",
     "text": [
      "z2 shape: (25, 1)\n",
      "a2 shape (26, 1)\n",
      "z3 shape (10, 1)\n",
      "a3 shape (10, 1)\n"
     ]
    }
   ],
   "source": [
    "print(f'z2 shape: {z2.shape}')\n",
    "print(f'a2 shape {a2.shape}')\n",
    "print(f'z3 shape {z3.shape}')\n",
    "print(f'a3 shape {a3.shape}')"
   ]
  },
  {
   "cell_type": "code",
   "execution_count": 261,
   "metadata": {},
   "outputs": [],
   "source": [
    "def BackPropagation(X, y, theta1, theta2, lam = 0):\n",
    "    '''\n",
    "    y shape: (5000, 10)\n",
    "    '''\n",
    "    D2 = np.zeros((10, 26))\n",
    "    D1 = np.zeros((25, 401))\n",
    "    m, n = X.shape\n",
    "    \n",
    "    for i in range(m):\n",
    "        rowi = X[i].reshape((1, n)) # rowi shape (1, 401)\n",
    "        z2, a2, z3, a3 = ForwardPropagation(rowi, theta1, theta2)\n",
    "        yi = y[i].reshape((10, 1))\n",
    "        e3 = a3 - yi # e3 shape: (10, 1)\n",
    "        # theta2 shape: (26, 10)\n",
    "        # z2 shape: (25, 5000)\n",
    "        e2 = theta2.T[1:, :].dot(e3) * SigmoidGradient(z2) # e2 shape: (25, 1)\n",
    "        a2 = np.insert(a2[1:, :], 0, 1, axis = 0) # a2.shape (26, 1)\n",
    "        D2 += e3 @ a2.T # D2 shape: (10, 26)\n",
    "        D1 += e2 @ rowi #D1 shape: (25, 401)\n",
    "        \n",
    "    D1 = D1/float(m)\n",
    "    D2 = D2/float(m)\n",
    "\n",
    "    D2[:, 1:] = D2[:, 1:] + lam/m*theta2[:, 1:]\n",
    "    D1[:, 1:] = D1[:, 1:] + lam/m*theta1[:, 1:]\n",
    "    return D1, D2"
   ]
  },
  {
   "cell_type": "code",
   "execution_count": 262,
   "metadata": {},
   "outputs": [],
   "source": [
    "# D1, D2 = BackPropagation(X, y_true, Theta1, Theta2)"
   ]
  },
  {
   "cell_type": "code",
   "execution_count": 263,
   "metadata": {},
   "outputs": [],
   "source": [
    "D1, D2 = BackPropagation(X, y_true, t1_ini, t2_ini)"
   ]
  },
  {
   "cell_type": "code",
   "execution_count": 264,
   "metadata": {},
   "outputs": [],
   "source": [
    "def GradientChecking(X, y, t1, t2):\n",
    "    e = 10**(-4)\n",
    "    m,n = t1.shape\n",
    "    GradientApprox = np.zeros(m*n)\n",
    "    for i in range(m*n):\n",
    "        t_plus = t1.flatten()\n",
    "        t_plus[i] = t_plus[i] + e\n",
    "        t_plus = t_plus.reshape((m,n))\n",
    "        t_minus = t1.flatten()\n",
    "        t_minus[i] = t_minus[i] - e\n",
    "        t_minus = t_minus.reshape((m,n))\n",
    "        GradientApprox[i] = (nnCostFunction(X,y, t_plus, t2) - nnCostFunction(X,y, t_minus, t2))/(2*e)\n",
    "    GradientApprox = GradientApprox.reshape((m,n))\n",
    "    return GradientApprox\n"
   ]
  },
  {
   "cell_type": "code",
   "execution_count": 265,
   "metadata": {},
   "outputs": [],
   "source": [
    "# D1_GradientApprox = GradientChecking(X, y, Theta1, Theta2)"
   ]
  },
  {
   "cell_type": "code",
   "execution_count": 266,
   "metadata": {},
   "outputs": [],
   "source": [
    "# GradientTest = np.round(D1_GradientApprox[0], 4) == np.round(D1[0], 4)\n",
    "# GradientTest[GradientTest == False]\n",
    "\n",
    "# array([], dtype=bool)"
   ]
  },
  {
   "cell_type": "code",
   "execution_count": null,
   "metadata": {},
   "outputs": [],
   "source": []
  },
  {
   "cell_type": "code",
   "execution_count": 267,
   "metadata": {},
   "outputs": [
    {
     "name": "stdout",
     "output_type": "stream",
     "text": [
      "X shape: (5000, 401)\n",
      "y shape: (5000, 1)\n",
      "Theta1 shape: (25, 401)\n",
      "Theta2 shape: (10, 26)\n",
      "D1 shape: (25, 401)\n",
      "D2 shape: (10, 26)\n"
     ]
    }
   ],
   "source": [
    "print(f'X shape: {X.shape}')\n",
    "print(f'y shape: {y.shape}')\n",
    "print(f'Theta1 shape: {Theta1.shape}')\n",
    "print(f'Theta2 shape: {Theta2.shape}')\n",
    "print(f'D1 shape: {D1.shape}')\n",
    "print(f'D2 shape: {D2.shape}')"
   ]
  },
  {
   "cell_type": "code",
   "execution_count": 268,
   "metadata": {},
   "outputs": [],
   "source": [
    "# alpha = 0.1, iteration = 100\n",
    "alpha = 0.01\n",
    "iteration = 100\n",
    "t1_ini, t2_ini, e_ini = randInitializeWeights(X, y_true, 25)"
   ]
  },
  {
   "cell_type": "code",
   "execution_count": 269,
   "metadata": {},
   "outputs": [
    {
     "name": "stdout",
     "output_type": "stream",
     "text": [
      "(25, 401) (10, 26)\n"
     ]
    }
   ],
   "source": [
    "print(t1_ini.shape, t2_ini.shape)"
   ]
  },
  {
   "cell_type": "code",
   "execution_count": 270,
   "metadata": {},
   "outputs": [],
   "source": [
    "def NN(X, y, t1_ini, t2_ini, alpha, iter, lam = 0):\n",
    "    m, n = X.shape\n",
    "    K = 10\n",
    "    y_true = np.zeros((m, K))\n",
    "    t1 = t1_ini\n",
    "    t2 = t2_ini\n",
    "    Loss = []\n",
    "    for i in range(m):\n",
    "        y_true[i, y[i] - 1] = 1\n",
    "    for i in range(iter):\n",
    "        l = nnCostFunction(X, y, t1, t2, lam)\n",
    "        if i % 100 == 0:\n",
    "            print(l)\n",
    "        Loss.append(l)\n",
    "        d1, d2 = BackPropagation(X, y_true, t1, t2,lam)\n",
    "        t1 -= alpha*d1\n",
    "        t2 -= alpha*d2\n",
    "        \n",
    "    return t1, t2, Loss\n",
    "\n",
    "\n",
    "\n",
    "        "
   ]
  },
  {
   "cell_type": "code",
   "execution_count": null,
   "metadata": {},
   "outputs": [
    {
     "name": "stdout",
     "output_type": "stream",
     "text": [
      "1.2327384262832224\n",
      "1.1576438878890807\n",
      "1.0932710411736535\n",
      "1.0373058824090322\n",
      "0.9880762560151792\n",
      "0.9443757065396254\n",
      "0.9053278974447643\n",
      "0.8702811357169158\n",
      "0.838729123549602\n",
      "0.8102564758614162\n"
     ]
    }
   ],
   "source": [
    "t1, t2, Loss = NN(X, y, t1_ini, t2_ini, alpha = 0.1, iter = 2000, lam =0)"
   ]
  },
  {
   "cell_type": "code",
   "execution_count": 280,
   "metadata": {},
   "outputs": [
    {
     "name": "stdout",
     "output_type": "stream",
     "text": [
      "Prediction: 6, Y: [6]\n"
     ]
    }
   ],
   "source": [
    "i = 3000\n",
    "z2, a2, z3, a3 = ForwardPropagation(X[i], t1, t2)\n",
    "prediction = np.argmax(a3) + 1\n",
    "print(f'Prediction: {prediction}, Y: {y[i]}')"
   ]
  },
  {
   "cell_type": "code",
   "execution_count": null,
   "metadata": {},
   "outputs": [],
   "source": []
  }
 ],
 "metadata": {
  "kernelspec": {
   "display_name": "enzo1",
   "language": "python",
   "name": "python3"
  },
  "language_info": {
   "codemirror_mode": {
    "name": "ipython",
    "version": 3
   },
   "file_extension": ".py",
   "mimetype": "text/x-python",
   "name": "python",
   "nbconvert_exporter": "python",
   "pygments_lexer": "ipython3",
   "version": "3.6.13"
  }
 },
 "nbformat": 4,
 "nbformat_minor": 2
}
