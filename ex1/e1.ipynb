{
 "cells": [
  {
   "cell_type": "code",
   "execution_count": 137,
   "metadata": {},
   "outputs": [],
   "source": [
    "%matplotlib inline\n",
    "import numpy as np\n",
    "import matplotlib.pyplot as plt"
   ]
  },
  {
   "cell_type": "markdown",
   "metadata": {},
   "source": [
    "1. Linear Regression"
   ]
  },
  {
   "cell_type": "code",
   "execution_count": 138,
   "metadata": {},
   "outputs": [],
   "source": [
    "data = np.loadtxt('ex1data1.txt', usecols=(0, 1), delimiter=',')"
   ]
  },
  {
   "cell_type": "code",
   "execution_count": 139,
   "metadata": {},
   "outputs": [],
   "source": [
    "x = data[:, 0]\n",
    "y = data[: ,1]\n",
    "m = len(y)"
   ]
  },
  {
   "cell_type": "code",
   "execution_count": 140,
   "metadata": {},
   "outputs": [
    {
     "data": {
      "text/plain": [
       "Text(0.5, 0, 'Population of City in 10,000s')"
      ]
     },
     "execution_count": 140,
     "metadata": {},
     "output_type": "execute_result"
    },
    {
     "data": {
      "image/png": "[encoded data removed]",
      "text/plain": [
       "<Figure size 720x432 with 1 Axes>"
      ]
     },
     "metadata": {
      "needs_background": "light"
     },
     "output_type": "display_data"
    }
   ],
   "source": [
    "plt.figure(figsize=(10, 6))\n",
    "plt.plot(x, y, 'rx', markersize =10)\n",
    "plt.ylabel('Profit in $10,000s')\n",
    "plt.xlabel('Population of City in 10,000s')"
   ]
  },
  {
   "cell_type": "markdown",
   "metadata": {},
   "source": [
    "2. Gradient Decent"
   ]
  },
  {
   "cell_type": "code",
   "execution_count": 141,
   "metadata": {},
   "outputs": [],
   "source": [
    "# add a columns of ones to X\n",
    "x1 = np.column_stack((np.ones(97), x))\n",
    "y1 = y.reshape(97, 1)"
   ]
  },
  {
   "cell_type": "code",
   "execution_count": 142,
   "metadata": {},
   "outputs": [
    {
     "data": {
      "text/plain": [
       "(97, 1)"
      ]
     },
     "execution_count": 142,
     "metadata": {},
     "output_type": "execute_result"
    }
   ],
   "source": [
    "y1.shape"
   ]
  },
  {
   "cell_type": "code",
   "execution_count": 143,
   "metadata": {},
   "outputs": [
    {
     "data": {
      "text/plain": [
       "(2, 1)"
      ]
     },
     "execution_count": 143,
     "metadata": {},
     "output_type": "execute_result"
    }
   ],
   "source": [
    "theta = np.zeros((2, 1)) # initializing fitting parameter\n",
    "theta.shape"
   ]
  },
  {
   "cell_type": "code",
   "execution_count": 144,
   "metadata": {},
   "outputs": [],
   "source": [
    "iterations = 1500\n",
    "alpha = 0.01"
   ]
  },
  {
   "cell_type": "code",
   "execution_count": 145,
   "metadata": {},
   "outputs": [],
   "source": [
    "def computeCost(theta, x, y):\n",
    "    '''\n",
    "    Assume theta is n dimensional vector\n",
    "    X has m rows and n columns\n",
    "    y has m rows and 1 column \n",
    "    '''\n",
    "    return (1/(2*m))*np.dot((np.dot(x, theta) - y).T, (np.dot(x, theta)-y))[0][0]"
   ]
  },
  {
   "cell_type": "code",
   "execution_count": 146,
   "metadata": {},
   "outputs": [
    {
     "name": "stdout",
     "output_type": "stream",
     "text": [
      "32.072733877455676\n"
     ]
    }
   ],
   "source": [
    "# initial loss is 32.0727\n",
    "print(computeCost(theta, x1, y1))"
   ]
  },
  {
   "cell_type": "code",
   "execution_count": 147,
   "metadata": {},
   "outputs": [],
   "source": [
    "def GradientDecent(x, y, initial_theta, alpha, iterations):\n",
    "    m = len(y)\n",
    "    theta0_history = []\n",
    "    theta1_history = []\n",
    "    loss_history = []\n",
    "    theta = initial_theta\n",
    "    L = 0\n",
    "    for i in range(iterations):\n",
    "        L = computeCost(theta, x, y)\n",
    "        theta0_history.append(theta[0][0])\n",
    "        theta1_history.append(theta[1][0])\n",
    "        loss_history.append(L)\n",
    "        theta = theta - alpha/m*np.dot(x.T, (np.dot(x, theta) - y))\n",
    "    return theta,  L, theta0_history, theta1_history, loss_history\n",
    "\n"
   ]
  },
  {
   "cell_type": "code",
   "execution_count": 148,
   "metadata": {},
   "outputs": [
    {
     "name": "stdout",
     "output_type": "stream",
     "text": [
      "Final Theta: [[-3.63029144]\n",
      " [ 1.16636235]]\n",
      "Final Loss: 4.483411453374869\n"
     ]
    }
   ],
   "source": [
    "final_theta, final_Loss, theta0_history, theta1_history, loss_history = GradientDecent(x1, y1, theta, alpha, iterations)\n",
    "print(f'Final Theta: {final_theta}')\n",
    "print(f'Final Loss: {final_Loss}')"
   ]
  },
  {
   "cell_type": "code",
   "execution_count": 149,
   "metadata": {},
   "outputs": [
    {
     "data": {
      "text/plain": [
       "Text(0, 0.5, 'Loss')"
      ]
     },
     "execution_count": 149,
     "metadata": {},
     "output_type": "execute_result"
    },
    {
     "data": {
      "image/png": "[encoded data removed]",
      "text/plain": [
       "<Figure size 432x288 with 1 Axes>"
      ]
     },
     "metadata": {
      "needs_background": "light"
     },
     "output_type": "display_data"
    }
   ],
   "source": [
    "plt.Figure(figsize=(10, 6))\n",
    "plt.plot(range(iterations), loss_history, 'bo')\n",
    "plt.xlabel('Iterations')\n",
    "plt.ylabel('Loss')"
   ]
  },
  {
   "cell_type": "code",
   "execution_count": 150,
   "metadata": {},
   "outputs": [
    {
     "data": {
      "text/plain": [
       "Text(0, 0.5, 'Loss History')"
      ]
     },
     "execution_count": 150,
     "metadata": {},
     "output_type": "execute_result"
    },
    {
     "data": {
      "image/png": "[encoded data removed]",
      "text/plain": [
       "<Figure size 720x432 with 1 Axes>"
      ]
     },
     "metadata": {
      "needs_background": "light"
     },
     "output_type": "display_data"
    }
   ],
   "source": [
    "plt.figure(figsize=(10, 6))\n",
    "plt.plot(theta1_history, loss_history)\n",
    "plt.xlabel('Theta History')\n",
    "plt.ylabel('Loss History')"
   ]
  },
  {
   "cell_type": "code",
   "execution_count": 151,
   "metadata": {},
   "outputs": [
    {
     "data": {
      "text/plain": [
       "array([[ 3.49629916,  2.81700972,  6.30548288,  4.53797737,  3.20435866,\n",
       "         6.14720751,  5.08990004,  6.37488144,  3.93496804,  2.2652037 ,\n",
       "         3.03045403, 12.89006489,  3.05763028,  6.17694975,  2.94880867,\n",
       "         2.64403819,  3.79407147,  2.35326405,  3.86895193,  4.61682347,\n",
       "         3.58844178, 20.0118734 ,  2.7731545 ,  3.74823343,  2.8603984 ,\n",
       "        18.46644329, 11.33180479,  9.14954083, 11.73769889, 22.26645183,\n",
       "         2.49591017,  4.05533663,  7.15646085,  3.24168226,  5.94682646,\n",
       "         5.62292763,  5.81246151,  2.90868581, 11.34113569,  3.78007512,\n",
       "         2.67611315,  4.39719744, 10.02547896,  3.10393486,  5.49614404,\n",
       "         4.64283335,  2.28339895,  3.1362431 , 10.01614806,  2.83322216,\n",
       "         5.16431395,  2.56041001,  5.02866601,  5.23767815,  3.75604805,\n",
       "         3.78649011,  3.68769922,  2.94764231,  7.22877531,  7.39603168,\n",
       "         6.66332285,  2.41064908, 21.18873301, 13.75783848, 18.48277236,\n",
       "         4.78874528,  6.04480089,  8.30859358,  2.78400167, 20.09468513,\n",
       "         8.19195734,  4.92439322,  3.37511411,  4.79772627,  2.23289546,\n",
       "         4.00693259,  5.16244777,  2.24409254,  8.35291535,  2.32713754,\n",
       "         3.05203174,  2.42126298,  3.78275775,  7.76355245,  3.969609  ,\n",
       "         6.30384997,  7.07714821,  3.37021539,  2.80849528,  2.27080224,\n",
       "         3.02695495,  5.27675129,  3.21707201,  2.55772737,  6.04281808,\n",
       "        11.99196588,  2.71110402]])"
      ]
     },
     "execution_count": 151,
     "metadata": {},
     "output_type": "execute_result"
    }
   ],
   "source": [
    "y_hat = np.dot(x1, final_theta)\n",
    "y_hat.reshape(1, 97)"
   ]
  },
  {
   "cell_type": "code",
   "execution_count": 152,
   "metadata": {},
   "outputs": [
    {
     "data": {
      "text/plain": [
       "Text(0.5, 0, 'Population of City in 10,000s')"
      ]
     },
     "execution_count": 152,
     "metadata": {},
     "output_type": "execute_result"
    },
    {
     "data": {
      "image/png": "[encoded data removed]",
      "text/plain": [
       "<Figure size 720x432 with 1 Axes>"
      ]
     },
     "metadata": {
      "needs_background": "light"
     },
     "output_type": "display_data"
    }
   ],
   "source": [
    "plt.figure(figsize=(10, 6))\n",
    "plt.plot(x, y, 'rx', markersize =10, label = 'Training Data')\n",
    "plt.plot(x, y_hat, 'b', label = 'Linear Regression')\n",
    "plt.legend()\n",
    "plt.ylabel('Profit in $10,000s')\n",
    "plt.xlabel('Population of City in 10,000s')"
   ]
  },
  {
   "cell_type": "code",
   "execution_count": null,
   "metadata": {},
   "outputs": [],
   "source": []
  },
  {
   "cell_type": "markdown",
   "metadata": {},
   "source": [
    "3. Linear Regression with Multiple Variables"
   ]
  },
  {
   "cell_type": "code",
   "execution_count": 153,
   "metadata": {},
   "outputs": [],
   "source": [
    "data2 = np.loadtxt('ex1data2.txt', usecols=(0, 1, 2), delimiter=',')"
   ]
  },
  {
   "cell_type": "code",
   "execution_count": 154,
   "metadata": {},
   "outputs": [
    {
     "data": {
      "text/plain": [
       "(47, 3)"
      ]
     },
     "execution_count": 154,
     "metadata": {},
     "output_type": "execute_result"
    }
   ],
   "source": [
    "data2.shape"
   ]
  },
  {
   "cell_type": "code",
   "execution_count": 155,
   "metadata": {},
   "outputs": [],
   "source": [
    "def featureNormalize(x):\n",
    "    ''' \n",
    "    m is the # of training data\n",
    "    n is the # of features\n",
    "    '''\n",
    "    m = x.shape[0]\n",
    "    n = x.shape[1]\n",
    "    mean_list = []\n",
    "    sd_list = []\n",
    "    for i in range(n):\n",
    "        features = x[:, i]\n",
    "        u = np.mean(features)\n",
    "        mean_list.append(u)\n",
    "        sd = np.std(features)\n",
    "        sd_list.append(sd)\n",
    "    \n",
    "    Normalized_features = np.zeros(m)\n",
    "    for i in range(n):\n",
    "        normalized_feature = x[:, i]\n",
    "        u = mean_list[i]\n",
    "        sd = sd_list[i]\n",
    "        normalized_feature = (normalized_feature - u)/sd\n",
    "        Normalized_features = np.column_stack((Normalized_features, normalized_feature))\n",
    "    Normalized_features = Normalized_features[:, 1:]\n",
    "    return mean_list, sd_list, Normalized_features\n"
   ]
  },
  {
   "cell_type": "code",
   "execution_count": 156,
   "metadata": {},
   "outputs": [],
   "source": [
    "mean_list, sd_list, Norm_x = featureNormalize(data2)"
   ]
  },
  {
   "cell_type": "code",
   "execution_count": 157,
   "metadata": {},
   "outputs": [
    {
     "name": "stdout",
     "output_type": "stream",
     "text": [
      "[2000.6808510638298, 3.1702127659574466, 340412.6595744681]\n",
      "[786.2026187430467, 0.7528428090618781, 123702.5360061474]\n"
     ]
    }
   ],
   "source": [
    "print(mean_list)\n",
    "print(sd_list)"
   ]
  },
  {
   "cell_type": "code",
   "execution_count": 158,
   "metadata": {},
   "outputs": [],
   "source": [
    "x2 = Norm_x[:, :2]\n",
    "y2 = Norm_x[:, -1].reshape((len(y2), 1))"
   ]
  },
  {
   "cell_type": "code",
   "execution_count": 159,
   "metadata": {},
   "outputs": [],
   "source": [
    "x2_new = np.column_stack((np.ones(data2.shape[0]), x2))\n",
    "theta2 = np.zeros((x2_new.shape[1], 1))"
   ]
  },
  {
   "cell_type": "code",
   "execution_count": 160,
   "metadata": {},
   "outputs": [
    {
     "name": "stdout",
     "output_type": "stream",
     "text": [
      "0.24226804123711343\n"
     ]
    }
   ],
   "source": [
    "# Initial loss\n",
    "print(computeCost(theta=theta2, x = x2_new, y= y2))"
   ]
  },
  {
   "cell_type": "code",
   "execution_count": 161,
   "metadata": {},
   "outputs": [],
   "source": [
    "def GradientDecentMultivariate(x, y, initial_theta, alpha, iterations):\n",
    "    '''\n",
    "    Input:\n",
    "    x, y and theta must in matrix format\n",
    "    The first column of x is ones\n",
    "    \n",
    "    Output:\n",
    "    theta in matrix format\n",
    "    L is a number\n",
    "    theta_history and loss_history are lists\n",
    "    '''\n",
    "    m = len(y)\n",
    "    n = x.shape[1]\n",
    "    theta_history = []\n",
    "    loss_history = []\n",
    "    theta = initial_theta\n",
    "    L = 0\n",
    "    for i in range(iterations):\n",
    "        L = computeCost(theta, x, y)\n",
    "        for t in theta.flat:\n",
    "            theta_history.append(t)\n",
    "        loss_history.append(L)\n",
    "        theta = theta - alpha/m*np.dot(x.T, (np.dot(x, theta) - y))\n",
    "    theta_history = np.array(theta_history).reshape((iterations, n))\n",
    "    return theta,  L, theta_history, loss_history"
   ]
  },
  {
   "cell_type": "code",
   "execution_count": 162,
   "metadata": {},
   "outputs": [],
   "source": [
    "final_theta2, final_Loss2, theta_history2, loss_history2 = GradientDecentMultivariate(x2_new, y2, theta2, alpha, iterations)\n"
   ]
  },
  {
   "cell_type": "code",
   "execution_count": 163,
   "metadata": {},
   "outputs": [
    {
     "name": "stdout",
     "output_type": "stream",
     "text": [
      "[[-0.   ]\n",
      " [ 0.884]\n",
      " [-0.053]]\n",
      "0.06469897233621542\n"
     ]
    }
   ],
   "source": [
    "print(np.round(final_theta2, 3))\n",
    "print(final_Loss2)"
   ]
  },
  {
   "cell_type": "code",
   "execution_count": 164,
   "metadata": {},
   "outputs": [
    {
     "data": {
      "text/plain": [
       "Text(0, 0.5, 'Loss')"
      ]
     },
     "execution_count": 164,
     "metadata": {},
     "output_type": "execute_result"
    },
    {
     "data": {
      "image/png": "[encoded data removed]",
      "text/plain": [
       "<Figure size 432x288 with 1 Axes>"
      ]
     },
     "metadata": {
      "needs_background": "light"
     },
     "output_type": "display_data"
    }
   ],
   "source": [
    "plt.Figure(figsize=(10, 6))\n",
    "plt.plot(range(iterations), loss_history2, 'bo')\n",
    "plt.xlabel('# Iterations')\n",
    "plt.ylabel('Loss')"
   ]
  },
  {
   "cell_type": "code",
   "execution_count": 174,
   "metadata": {},
   "outputs": [
    {
     "data": {
      "text/plain": [
       "(3, 1)"
      ]
     },
     "execution_count": 174,
     "metadata": {},
     "output_type": "execute_result"
    }
   ],
   "source": [
    "final_theta2.shape"
   ]
  },
  {
   "cell_type": "code",
   "execution_count": 180,
   "metadata": {},
   "outputs": [
    {
     "name": "stdout",
     "output_type": "stream",
     "text": [
      "[[293098.56323584]]\n"
     ]
    }
   ],
   "source": [
    "# predict the price of a house with 1650 sq feet and 3 bedrooms\n",
    "nx1 = (1650 - mean_list[0])/sd_list[0]\n",
    "nx2 = (3 - mean_list[1])/sd_list[1]\n",
    "nx_test = np.array([1, nx1, nx2]).reshape((1, 3))\n",
    "ny_test = np.dot(nx_test, final_theta2)\n",
    "y_test = ny_test*sd_list[2]+mean_list[2]\n",
    "print(y_test)"
   ]
  },
  {
   "cell_type": "code",
   "execution_count": 193,
   "metadata": {},
   "outputs": [
    {
     "name": "stdout",
     "output_type": "stream",
     "text": [
      "293081.46433489653\n"
     ]
    }
   ],
   "source": [
    "# calculate y based on Normal Equation\n",
    "def NormalEquation(x, y):\n",
    "    return np.dot(np.dot(np.linalg.inv(np.dot(x.T, x)), x.T), y)\n",
    "\n",
    "best_theta = NormalEquation(np.column_stack((np.ones(data2.shape[0]), data2[:, :2])), data2[:, -1])\n",
    "y_best = np.dot([1, 1650, 3], best_theta)\n",
    "print(y_best)"
   ]
  },
  {
   "cell_type": "code",
   "execution_count": null,
   "metadata": {},
   "outputs": [],
   "source": []
  }
 ],
 "metadata": {
  "kernelspec": {
   "display_name": "enzo1",
   "language": "python",
   "name": "python3"
  },
  "language_info": {
   "codemirror_mode": {
    "name": "ipython",
    "version": 3
   },
   "file_extension": ".py",
   "mimetype": "text/x-python",
   "name": "python",
   "nbconvert_exporter": "python",
   "pygments_lexer": "ipython3",
   "version": "3.6.13"
  }
 },
 "nbformat": 4,
 "nbformat_minor": 2
}
